{
 "cells": [
  {
   "cell_type": "code",
   "execution_count": 2,
   "id": "90a35484",
   "metadata": {},
   "outputs": [],
   "source": [
    "import pandas as pd\n",
    "import numpy as np\n",
    "import random\n",
    "from scipy import stats"
   ]
  },
  {
   "cell_type": "code",
   "execution_count": 3,
   "id": "507aa0b4",
   "metadata": {},
   "outputs": [],
   "source": [
    "import matplotlib.pyplot as plt\n",
    "%matplotlib inline"
   ]
  },
  {
   "cell_type": "code",
   "execution_count": 4,
   "id": "48db612a",
   "metadata": {},
   "outputs": [],
   "source": [
    "import scipy.stats as st"
   ]
  },
  {
   "cell_type": "code",
   "execution_count": 5,
   "id": "c451f9d3",
   "metadata": {},
   "outputs": [],
   "source": [
    "bp = pd.read_csv('bp.csv')\n",
    "paired = pd.read_csv('paired.csv')"
   ]
  },
  {
   "cell_type": "code",
   "execution_count": 6,
   "id": "8ea779ac",
   "metadata": {},
   "outputs": [
    {
     "data": {
      "text/html": [
       "<div>\n",
       "<style scoped>\n",
       "    .dataframe tbody tr th:only-of-type {\n",
       "        vertical-align: middle;\n",
       "    }\n",
       "\n",
       "    .dataframe tbody tr th {\n",
       "        vertical-align: top;\n",
       "    }\n",
       "\n",
       "    .dataframe thead th {\n",
       "        text-align: right;\n",
       "    }\n",
       "</style>\n",
       "<table border=\"1\" class=\"dataframe\">\n",
       "  <thead>\n",
       "    <tr style=\"text-align: right;\">\n",
       "      <th></th>\n",
       "      <th>bp</th>\n",
       "      <th>type</th>\n",
       "    </tr>\n",
       "  </thead>\n",
       "  <tbody>\n",
       "    <tr>\n",
       "      <th>0</th>\n",
       "      <td>68</td>\n",
       "      <td>No</td>\n",
       "    </tr>\n",
       "    <tr>\n",
       "      <th>1</th>\n",
       "      <td>70</td>\n",
       "      <td>Yes</td>\n",
       "    </tr>\n",
       "    <tr>\n",
       "      <th>2</th>\n",
       "      <td>82</td>\n",
       "      <td>No</td>\n",
       "    </tr>\n",
       "    <tr>\n",
       "      <th>3</th>\n",
       "      <td>76</td>\n",
       "      <td>No</td>\n",
       "    </tr>\n",
       "    <tr>\n",
       "      <th>4</th>\n",
       "      <td>60</td>\n",
       "      <td>No</td>\n",
       "    </tr>\n",
       "  </tbody>\n",
       "</table>\n",
       "</div>"
      ],
      "text/plain": [
       "   bp type\n",
       "0  68   No\n",
       "1  70  Yes\n",
       "2  82   No\n",
       "3  76   No\n",
       "4  60   No"
      ]
     },
     "execution_count": 6,
     "metadata": {},
     "output_type": "execute_result"
    }
   ],
   "source": [
    "bp.head()"
   ]
  },
  {
   "cell_type": "code",
   "execution_count": 7,
   "id": "a013eb08",
   "metadata": {},
   "outputs": [
    {
     "data": {
      "text/plain": [
       "<AxesSubplot:ylabel='Frequency'>"
      ]
     },
     "execution_count": 7,
     "metadata": {},
     "output_type": "execute_result"
    },
    {
     "data": {
      "image/png": "[encoded data removed]",
      "text/plain": [
       "<Figure size 640x480 with 1 Axes>"
      ]
     },
     "metadata": {},
     "output_type": "display_data"
    }
   ],
   "source": [
    "bp['bp'].plot(kind='hist')"
   ]
  },
  {
   "cell_type": "markdown",
   "id": "94d144cf",
   "metadata": {},
   "source": [
    "### Mean"
   ]
  },
  {
   "cell_type": "code",
   "execution_count": 94,
   "id": "8342ef7d",
   "metadata": {},
   "outputs": [
    {
     "data": {
      "text/html": [
       "<div>\n",
       "<style scoped>\n",
       "    .dataframe tbody tr th:only-of-type {\n",
       "        vertical-align: middle;\n",
       "    }\n",
       "\n",
       "    .dataframe tbody tr th {\n",
       "        vertical-align: top;\n",
       "    }\n",
       "\n",
       "    .dataframe thead th {\n",
       "        text-align: right;\n",
       "    }\n",
       "</style>\n",
       "<table border=\"1\" class=\"dataframe\">\n",
       "  <thead>\n",
       "    <tr style=\"text-align: right;\">\n",
       "      <th></th>\n",
       "      <th>bp</th>\n",
       "    </tr>\n",
       "    <tr>\n",
       "      <th>type</th>\n",
       "      <th></th>\n",
       "    </tr>\n",
       "  </thead>\n",
       "  <tbody>\n",
       "    <tr>\n",
       "      <th>No</th>\n",
       "      <td>69.545455</td>\n",
       "    </tr>\n",
       "    <tr>\n",
       "      <th>Yes</th>\n",
       "      <td>74.588235</td>\n",
       "    </tr>\n",
       "  </tbody>\n",
       "</table>\n",
       "</div>"
      ],
      "text/plain": [
       "             bp\n",
       "type           \n",
       "No    69.545455\n",
       "Yes   74.588235"
      ]
     },
     "execution_count": 94,
     "metadata": {},
     "output_type": "execute_result"
    }
   ],
   "source": [
    "pd.pivot_table(bp,index=['type'],values='bp',aggfunc='mean')"
   ]
  },
  {
   "cell_type": "markdown",
   "id": "23235a56",
   "metadata": {},
   "source": [
    "Mean of Diabetic bp = 75\n",
    "Mean of Non-Diabetic bp = 70\n",
    "\n",
    "\n",
    "Diabetic has the highest mean "
   ]
  },
  {
   "cell_type": "markdown",
   "id": "e403a3c9",
   "metadata": {},
   "source": [
    "### Median"
   ]
  },
  {
   "cell_type": "code",
   "execution_count": 95,
   "id": "1b6bb12f",
   "metadata": {},
   "outputs": [
    {
     "data": {
      "text/html": [
       "<div>\n",
       "<style scoped>\n",
       "    .dataframe tbody tr th:only-of-type {\n",
       "        vertical-align: middle;\n",
       "    }\n",
       "\n",
       "    .dataframe tbody tr th {\n",
       "        vertical-align: top;\n",
       "    }\n",
       "\n",
       "    .dataframe thead th {\n",
       "        text-align: right;\n",
       "    }\n",
       "</style>\n",
       "<table border=\"1\" class=\"dataframe\">\n",
       "  <thead>\n",
       "    <tr style=\"text-align: right;\">\n",
       "      <th></th>\n",
       "      <th>bp</th>\n",
       "    </tr>\n",
       "    <tr>\n",
       "      <th>type</th>\n",
       "      <th></th>\n",
       "    </tr>\n",
       "  </thead>\n",
       "  <tbody>\n",
       "    <tr>\n",
       "      <th>No</th>\n",
       "      <td>70</td>\n",
       "    </tr>\n",
       "    <tr>\n",
       "      <th>Yes</th>\n",
       "      <td>76</td>\n",
       "    </tr>\n",
       "  </tbody>\n",
       "</table>\n",
       "</div>"
      ],
      "text/plain": [
       "      bp\n",
       "type    \n",
       "No    70\n",
       "Yes   76"
      ]
     },
     "execution_count": 95,
     "metadata": {},
     "output_type": "execute_result"
    }
   ],
   "source": [
    "pd.pivot_table(bp,index=['type'],values='bp',aggfunc='median')"
   ]
  },
  {
   "cell_type": "code",
   "execution_count": null,
   "id": "49c96f6b",
   "metadata": {},
   "outputs": [],
   "source": []
  },
  {
   "cell_type": "markdown",
   "id": "a6ef1ee6",
   "metadata": {},
   "source": [
    "Median of Diabetic bp = 76\n",
    "Median of Non-Diabetic bp = 70\n",
    "\n",
    "\n",
    "Diabetic has the highest median "
   ]
  },
  {
   "cell_type": "markdown",
   "id": "76d6ddca",
   "metadata": {},
   "source": [
    "### Using the BP.CSV dataset"
   ]
  },
  {
   "cell_type": "code",
   "execution_count": 96,
   "id": "5e4a8799",
   "metadata": {},
   "outputs": [
    {
     "data": {
      "text/plain": [
       "(200, 2)"
      ]
     },
     "execution_count": 96,
     "metadata": {},
     "output_type": "execute_result"
    }
   ],
   "source": [
    "bp.shape"
   ]
  },
  {
   "cell_type": "markdown",
   "id": "4272e594",
   "metadata": {},
   "source": [
    "#### Splitting the dataset into Diabetic and Non Diabetic"
   ]
  },
  {
   "cell_type": "code",
   "execution_count": 8,
   "id": "cce8611b",
   "metadata": {},
   "outputs": [],
   "source": [
    "bp_yes = bp.query(\"type == 'Yes'\")"
   ]
  },
  {
   "cell_type": "code",
   "execution_count": 9,
   "id": "a958b1b1",
   "metadata": {},
   "outputs": [
    {
     "data": {
      "text/plain": [
       "(68, 2)"
      ]
     },
     "execution_count": 9,
     "metadata": {},
     "output_type": "execute_result"
    }
   ],
   "source": [
    "bp_yes.shape"
   ]
  },
  {
   "cell_type": "code",
   "execution_count": 10,
   "id": "02a1e365",
   "metadata": {},
   "outputs": [],
   "source": [
    "bp_no = bp.query(\"type == 'No'\")"
   ]
  },
  {
   "cell_type": "code",
   "execution_count": 11,
   "id": "75be4340",
   "metadata": {},
   "outputs": [
    {
     "data": {
      "text/plain": [
       "(132, 2)"
      ]
     },
     "execution_count": 11,
     "metadata": {},
     "output_type": "execute_result"
    }
   ],
   "source": [
    "bp_no.shape"
   ]
  },
  {
   "cell_type": "code",
   "execution_count": 12,
   "id": "f008fea5",
   "metadata": {},
   "outputs": [],
   "source": [
    "from scipy.stats import ttest_rel"
   ]
  },
  {
   "cell_type": "code",
   "execution_count": 13,
   "id": "6b5e5614",
   "metadata": {},
   "outputs": [
    {
     "name": "stdout",
     "output_type": "stream",
     "text": [
      "Test statistic is 3.001495\n",
      "p-value for two tailed test is 0.003032\n",
      "Conclusion Since p-value(=0.003032) < alpha(=0.05) We reject the null hypothesis H0. μ1 = μ2 at 0.05 level of significance.\n"
     ]
    }
   ],
   "source": [
    "\n",
    "t_value, p_value = stats.ttest_ind(bp_yes['bp'],bp_no['bp'])\n",
    " \n",
    "print('Test statistic is %f' % float(\"{:.6f}\".format(t_value)))\n",
    "print('p-value for two tailed test is %f' % p_value)\n",
    " \n",
    "alpha = 0.05\n",
    "if p_value <= alpha:\n",
    " \n",
    "    print('Conclusion', 'Since p-value(=%f)' % p_value,\n",
    "          '<', 'alpha(=%.2f)' % alpha,\n",
    "          '''We reject the null hypothesis H0. μ1 = μ2 at %.2f level of significance.''' % alpha)\n",
    " \n",
    "else:\n",
    " \n",
    "    print('Conclusion', 'n', 'Since p-value(=%f)' % p_value,\n",
    "          '>', 'alpha(=%.2f)' % alpha,\n",
    "          'We fail to reject the null \\\n",
    "          hypothesis H0.')"
   ]
  },
  {
   "cell_type": "markdown",
   "id": "e2d7d399",
   "metadata": {},
   "source": [
    "The p-value is less than the significance level, hence, the test says there is enough evidence to reject the null hypothesis and that the samples were likely drawn from populations with differing distributions."
   ]
  },
  {
   "cell_type": "markdown",
   "id": "0a3db4e6",
   "metadata": {},
   "source": []
  },
  {
   "cell_type": "markdown",
   "id": "e6f66bd5",
   "metadata": {},
   "source": [
    "### Using Wilconxon Test"
   ]
  },
  {
   "cell_type": "markdown",
   "id": "3f024b14",
   "metadata": {},
   "source": [
    "Reducing the Diabetic data to match with Non Diabetic to be able to use the Wilcoxon test"
   ]
  },
  {
   "cell_type": "code",
   "execution_count": 14,
   "id": "7a4d0944",
   "metadata": {},
   "outputs": [],
   "source": [
    "import random\n",
    "d1 = np.random.choice(bp_no['bp'], size=68, replace=False)"
   ]
  },
  {
   "cell_type": "code",
   "execution_count": 15,
   "id": "52dd7988",
   "metadata": {},
   "outputs": [
    {
     "name": "stdout",
     "output_type": "stream",
     "text": [
      "stat=545.000, p=0.002\n",
      "Different distribution (reject H0)\n"
     ]
    }
   ],
   "source": [
    "stat, p = stats.wilcoxon(bp_yes['bp'],d1)\n",
    "print('stat=%.3f, p=%.3f' % (stat, p))\n",
    "alpha = 0.05\n",
    "if p > alpha:\n",
    " print('Same distribution (fail to reject H0)')\n",
    "else:\n",
    " print('Different distribution (reject H0)')"
   ]
  },
  {
   "cell_type": "code",
   "execution_count": null,
   "id": "22ef620d",
   "metadata": {},
   "outputs": [],
   "source": []
  },
  {
   "cell_type": "markdown",
   "id": "9dfb63cc",
   "metadata": {},
   "source": [
    "The results of the two tests are both less than 0.05 (0.003032 & 0.012), both tests suggests that there is enough evidence to reject the null hypothesis and that the samples were likely drawn from populations with differing distributions."
   ]
  },
  {
   "cell_type": "code",
   "execution_count": null,
   "id": "c19f0e5c",
   "metadata": {},
   "outputs": [],
   "source": []
  },
  {
   "cell_type": "markdown",
   "id": "d79943a3",
   "metadata": {},
   "source": [
    "### Using the paired Dataset"
   ]
  },
  {
   "cell_type": "code",
   "execution_count": 16,
   "id": "50c30f21",
   "metadata": {},
   "outputs": [
    {
     "data": {
      "text/html": [
       "<div>\n",
       "<style scoped>\n",
       "    .dataframe tbody tr th:only-of-type {\n",
       "        vertical-align: middle;\n",
       "    }\n",
       "\n",
       "    .dataframe tbody tr th {\n",
       "        vertical-align: top;\n",
       "    }\n",
       "\n",
       "    .dataframe thead th {\n",
       "        text-align: right;\n",
       "    }\n",
       "</style>\n",
       "<table border=\"1\" class=\"dataframe\">\n",
       "  <thead>\n",
       "    <tr style=\"text-align: right;\">\n",
       "      <th></th>\n",
       "      <th>Clone</th>\n",
       "      <th>August</th>\n",
       "      <th>November</th>\n",
       "    </tr>\n",
       "  </thead>\n",
       "  <tbody>\n",
       "    <tr>\n",
       "      <th>0</th>\n",
       "      <td>Balsam_Spire</td>\n",
       "      <td>8.1</td>\n",
       "      <td>11.2</td>\n",
       "    </tr>\n",
       "    <tr>\n",
       "      <th>1</th>\n",
       "      <td>Beaupre</td>\n",
       "      <td>10.0</td>\n",
       "      <td>16.3</td>\n",
       "    </tr>\n",
       "    <tr>\n",
       "      <th>2</th>\n",
       "      <td>Hazendans</td>\n",
       "      <td>16.5</td>\n",
       "      <td>15.3</td>\n",
       "    </tr>\n",
       "    <tr>\n",
       "      <th>3</th>\n",
       "      <td>Hoogvorst</td>\n",
       "      <td>13.6</td>\n",
       "      <td>15.6</td>\n",
       "    </tr>\n",
       "    <tr>\n",
       "      <th>4</th>\n",
       "      <td>Raspalje</td>\n",
       "      <td>9.5</td>\n",
       "      <td>10.5</td>\n",
       "    </tr>\n",
       "  </tbody>\n",
       "</table>\n",
       "</div>"
      ],
      "text/plain": [
       "          Clone  August  November\n",
       "0  Balsam_Spire     8.1      11.2\n",
       "1       Beaupre    10.0      16.3\n",
       "2     Hazendans    16.5      15.3\n",
       "3     Hoogvorst    13.6      15.6\n",
       "4      Raspalje     9.5      10.5"
      ]
     },
     "execution_count": 16,
     "metadata": {},
     "output_type": "execute_result"
    }
   ],
   "source": [
    "paired.head()"
   ]
  },
  {
   "cell_type": "code",
   "execution_count": 17,
   "id": "ec0eb8fb",
   "metadata": {},
   "outputs": [
    {
     "data": {
      "text/html": [
       "<div>\n",
       "<style scoped>\n",
       "    .dataframe tbody tr th:only-of-type {\n",
       "        vertical-align: middle;\n",
       "    }\n",
       "\n",
       "    .dataframe tbody tr th {\n",
       "        vertical-align: top;\n",
       "    }\n",
       "\n",
       "    .dataframe thead th {\n",
       "        text-align: right;\n",
       "    }\n",
       "</style>\n",
       "<table border=\"1\" class=\"dataframe\">\n",
       "  <thead>\n",
       "    <tr style=\"text-align: right;\">\n",
       "      <th></th>\n",
       "      <th>August</th>\n",
       "      <th>November</th>\n",
       "    </tr>\n",
       "  </thead>\n",
       "  <tbody>\n",
       "    <tr>\n",
       "      <th>count</th>\n",
       "      <td>13.000000</td>\n",
       "      <td>13.000000</td>\n",
       "    </tr>\n",
       "    <tr>\n",
       "      <th>mean</th>\n",
       "      <td>11.423077</td>\n",
       "      <td>16.323077</td>\n",
       "    </tr>\n",
       "    <tr>\n",
       "      <th>std</th>\n",
       "      <td>3.451607</td>\n",
       "      <td>6.886963</td>\n",
       "    </tr>\n",
       "    <tr>\n",
       "      <th>min</th>\n",
       "      <td>7.900000</td>\n",
       "      <td>10.500000</td>\n",
       "    </tr>\n",
       "    <tr>\n",
       "      <th>25%</th>\n",
       "      <td>8.300000</td>\n",
       "      <td>12.700000</td>\n",
       "    </tr>\n",
       "    <tr>\n",
       "      <th>50%</th>\n",
       "      <td>10.000000</td>\n",
       "      <td>15.300000</td>\n",
       "    </tr>\n",
       "    <tr>\n",
       "      <th>75%</th>\n",
       "      <td>13.400000</td>\n",
       "      <td>16.300000</td>\n",
       "    </tr>\n",
       "    <tr>\n",
       "      <th>max</th>\n",
       "      <td>18.300000</td>\n",
       "      <td>36.800000</td>\n",
       "    </tr>\n",
       "  </tbody>\n",
       "</table>\n",
       "</div>"
      ],
      "text/plain": [
       "          August   November\n",
       "count  13.000000  13.000000\n",
       "mean   11.423077  16.323077\n",
       "std     3.451607   6.886963\n",
       "min     7.900000  10.500000\n",
       "25%     8.300000  12.700000\n",
       "50%    10.000000  15.300000\n",
       "75%    13.400000  16.300000\n",
       "max    18.300000  36.800000"
      ]
     },
     "execution_count": 17,
     "metadata": {},
     "output_type": "execute_result"
    }
   ],
   "source": [
    "paired.describe()"
   ]
  },
  {
   "cell_type": "markdown",
   "id": "0657bdab",
   "metadata": {},
   "source": [
    "#### The Month of November has the highest mean and median values with (16.3 mean & 15.3 median)"
   ]
  },
  {
   "cell_type": "markdown",
   "id": "151575e0",
   "metadata": {},
   "source": [
    "#### Using Paired t test on the Paired Data"
   ]
  },
  {
   "cell_type": "code",
   "execution_count": 30,
   "id": "9371bc8f",
   "metadata": {},
   "outputs": [
    {
     "name": "stdout",
     "output_type": "stream",
     "text": [
      "Test statistic is -2.293401\n",
      "p-value for two tailed test is 0.030884\n",
      "Conclusion Since p-value(=0.030884) < alpha(=0.05) We reject the null hypothesis H0. μ1 = μ2 at 0.05 level of significance.\n"
     ]
    }
   ],
   "source": [
    "\n",
    "t_value, p_value = stats.ttest_ind(paired['August'],paired['November'])\n",
    " \n",
    "print('Test statistic is %f' % float(\"{:.6f}\".format(t_value)))\n",
    "print('p-value for two tailed test is %f' % p_value)\n",
    " \n",
    "alpha = 0.05\n",
    "if p_value <= alpha:\n",
    " \n",
    "    print('Conclusion', 'Since p-value(=%f)' % p_value,\n",
    "          '<', 'alpha(=%.2f)' % alpha,\n",
    "          '''We reject the null hypothesis H0. μ1 = μ2 at %.2f level of significance.''' % alpha)\n",
    " \n",
    "else:\n",
    " \n",
    "    print('Conclusion', 'n', 'Since p-value(=%f)' % p_value,\n",
    "          '>', 'alpha(=%.2f)' % alpha,\n",
    "          'We fail to reject the null \\\n",
    "          hypothesis H0.')"
   ]
  },
  {
   "cell_type": "code",
   "execution_count": 19,
   "id": "294d893f",
   "metadata": {},
   "outputs": [
    {
     "data": {
      "text/plain": [
       "(13, 3)"
      ]
     },
     "execution_count": 19,
     "metadata": {},
     "output_type": "execute_result"
    }
   ],
   "source": [
    "paired.shape"
   ]
  },
  {
   "cell_type": "code",
   "execution_count": null,
   "id": "bfadfe56",
   "metadata": {},
   "outputs": [],
   "source": []
  },
  {
   "cell_type": "code",
   "execution_count": 20,
   "id": "e89abd34",
   "metadata": {},
   "outputs": [
    {
     "name": "stdout",
     "output_type": "stream",
     "text": [
      "stat=16.000, p=0.040\n",
      "Different distribution (reject H0)\n"
     ]
    }
   ],
   "source": [
    "stat, p = stats.wilcoxon(paired['August'],paired['November'])\n",
    "print('stat=%.3f, p=%.3f' % (stat, p))\n",
    "alpha = 0.05\n",
    "if p > alpha:\n",
    " print('Same distribution (fail to reject H0)')\n",
    "else:\n",
    " print('Different distribution (reject H0)')"
   ]
  },
  {
   "cell_type": "code",
   "execution_count": null,
   "id": "8b884c75",
   "metadata": {},
   "outputs": [],
   "source": []
  },
  {
   "cell_type": "code",
   "execution_count": null,
   "id": "7beae575",
   "metadata": {},
   "outputs": [],
   "source": []
  },
  {
   "cell_type": "code",
   "execution_count": 22,
   "id": "c6ad793a",
   "metadata": {},
   "outputs": [
    {
     "data": {
      "text/html": [
       "<div>\n",
       "<style scoped>\n",
       "    .dataframe tbody tr th:only-of-type {\n",
       "        vertical-align: middle;\n",
       "    }\n",
       "\n",
       "    .dataframe tbody tr th {\n",
       "        vertical-align: top;\n",
       "    }\n",
       "\n",
       "    .dataframe thead th {\n",
       "        text-align: right;\n",
       "    }\n",
       "</style>\n",
       "<table border=\"1\" class=\"dataframe\">\n",
       "  <thead>\n",
       "    <tr style=\"text-align: right;\">\n",
       "      <th></th>\n",
       "      <th>bp</th>\n",
       "      <th>type</th>\n",
       "    </tr>\n",
       "  </thead>\n",
       "  <tbody>\n",
       "    <tr>\n",
       "      <th>0</th>\n",
       "      <td>68</td>\n",
       "      <td>No</td>\n",
       "    </tr>\n",
       "    <tr>\n",
       "      <th>2</th>\n",
       "      <td>82</td>\n",
       "      <td>No</td>\n",
       "    </tr>\n",
       "    <tr>\n",
       "      <th>3</th>\n",
       "      <td>76</td>\n",
       "      <td>No</td>\n",
       "    </tr>\n",
       "    <tr>\n",
       "      <th>4</th>\n",
       "      <td>60</td>\n",
       "      <td>No</td>\n",
       "    </tr>\n",
       "    <tr>\n",
       "      <th>6</th>\n",
       "      <td>58</td>\n",
       "      <td>No</td>\n",
       "    </tr>\n",
       "  </tbody>\n",
       "</table>\n",
       "</div>"
      ],
      "text/plain": [
       "   bp type\n",
       "0  68   No\n",
       "2  82   No\n",
       "3  76   No\n",
       "4  60   No\n",
       "6  58   No"
      ]
     },
     "execution_count": 22,
     "metadata": {},
     "output_type": "execute_result"
    }
   ],
   "source": [
    "bp_no.head()"
   ]
  },
  {
   "cell_type": "code",
   "execution_count": 23,
   "id": "fb8c89db",
   "metadata": {},
   "outputs": [
    {
     "data": {
      "text/html": [
       "<div>\n",
       "<style scoped>\n",
       "    .dataframe tbody tr th:only-of-type {\n",
       "        vertical-align: middle;\n",
       "    }\n",
       "\n",
       "    .dataframe tbody tr th {\n",
       "        vertical-align: top;\n",
       "    }\n",
       "\n",
       "    .dataframe thead th {\n",
       "        text-align: right;\n",
       "    }\n",
       "</style>\n",
       "<table border=\"1\" class=\"dataframe\">\n",
       "  <thead>\n",
       "    <tr style=\"text-align: right;\">\n",
       "      <th></th>\n",
       "      <th>bp</th>\n",
       "      <th>type</th>\n",
       "    </tr>\n",
       "  </thead>\n",
       "  <tbody>\n",
       "    <tr>\n",
       "      <th>1</th>\n",
       "      <td>70</td>\n",
       "      <td>Yes</td>\n",
       "    </tr>\n",
       "    <tr>\n",
       "      <th>5</th>\n",
       "      <td>76</td>\n",
       "      <td>Yes</td>\n",
       "    </tr>\n",
       "    <tr>\n",
       "      <th>9</th>\n",
       "      <td>78</td>\n",
       "      <td>Yes</td>\n",
       "    </tr>\n",
       "    <tr>\n",
       "      <th>10</th>\n",
       "      <td>40</td>\n",
       "      <td>Yes</td>\n",
       "    </tr>\n",
       "    <tr>\n",
       "      <th>12</th>\n",
       "      <td>60</td>\n",
       "      <td>Yes</td>\n",
       "    </tr>\n",
       "  </tbody>\n",
       "</table>\n",
       "</div>"
      ],
      "text/plain": [
       "    bp type\n",
       "1   70  Yes\n",
       "5   76  Yes\n",
       "9   78  Yes\n",
       "10  40  Yes\n",
       "12  60  Yes"
      ]
     },
     "execution_count": 23,
     "metadata": {},
     "output_type": "execute_result"
    }
   ],
   "source": [
    "bp_yes.head()"
   ]
  },
  {
   "cell_type": "code",
   "execution_count": 24,
   "id": "097e231f",
   "metadata": {},
   "outputs": [],
   "source": [
    "bp1 = (bp_no['bp'],)"
   ]
  },
  {
   "cell_type": "markdown",
   "id": "1b003e65",
   "metadata": {},
   "source": [
    "### Confidence Interval for the BP.CSV dataset "
   ]
  },
  {
   "cell_type": "code",
   "execution_count": 25,
   "id": "c9428077",
   "metadata": {},
   "outputs": [
    {
     "name": "stdout",
     "output_type": "stream",
     "text": [
      "ConfidenceInterval(low=67.6590909090909, high=71.47727272727273)\n"
     ]
    }
   ],
   "source": [
    "#Using NO Diabetic Data\n",
    "bootstrap_ci = stats.bootstrap(bp1, np.mean, confidence_level=0.95,\n",
    "                         random_state=1, method='BCa')\n",
    "\n",
    "#IC 95% \n",
    "print(bootstrap_ci.confidence_interval)"
   ]
  },
  {
   "cell_type": "markdown",
   "id": "20461e6e",
   "metadata": {},
   "source": [
    "There is a 95% chance that the confidence interval of [67.59, 71.47] contains the true population mean of patients with No Diabetes."
   ]
  },
  {
   "cell_type": "code",
   "execution_count": 26,
   "id": "6583b436",
   "metadata": {},
   "outputs": [],
   "source": [
    "bp2 = (bp_yes['bp'],)"
   ]
  },
  {
   "cell_type": "code",
   "execution_count": 28,
   "id": "ff723741",
   "metadata": {},
   "outputs": [
    {
     "name": "stdout",
     "output_type": "stream",
     "text": [
      "ConfidenceInterval(low=71.77941176470588, high=77.29411764705883)\n"
     ]
    }
   ],
   "source": [
    "#Using Diabetic Data\n",
    "bootstrap_ci = stats.bootstrap(bp2, np.mean, confidence_level=0.95,\n",
    "                         random_state=1, method='BCa')\n",
    "\n",
    "#IC 95% \n",
    "print(bootstrap_ci.confidence_interval)"
   ]
  },
  {
   "cell_type": "markdown",
   "id": "a22c9d80",
   "metadata": {},
   "source": [
    "There is a 95% chance that the confidence interval of [71.77, 77.29] contains the true population mean of patients with Diabetes."
   ]
  },
  {
   "cell_type": "code",
   "execution_count": null,
   "id": "2856198b",
   "metadata": {},
   "outputs": [],
   "source": []
  },
  {
   "cell_type": "markdown",
   "id": "8782dc99",
   "metadata": {},
   "source": [
    "### Calculation using Cohen D"
   ]
  },
  {
   "cell_type": "code",
   "execution_count": 29,
   "id": "4f4e8bd9",
   "metadata": {},
   "outputs": [
    {
     "name": "stdout",
     "output_type": "stream",
     "text": [
      "Cohens d: 0.448\n"
     ]
    }
   ],
   "source": [
    "from math import sqrt\n",
    " \n",
    "# function to calculate Cohen's d for independent samples\n",
    "def cohend(d1, d2):\n",
    "\t# calculate the size of samples\n",
    "\tn1, n2 = len(d1), len(d2)\n",
    "\t# calculate the variance of the samples\n",
    "\ts1, s2 = np.var(d1, ddof=1), np.var(d2, ddof=1)\n",
    "\t# calculate the pooled standard deviation\n",
    "\ts = sqrt(((n1 - 1) * s1 + (n2 - 1) * s2) / (n1 + n2 - 2))\n",
    "\t# calculate the means of the samples\n",
    "\tu1, u2 = np.mean(d1), np.mean(d2)\n",
    "\t# calculate the effect size\n",
    "\treturn (u1 - u2) / s\n",
    " \n",
    "# seed random number generator\n",
    "np.random.seed(1)\n",
    "\n",
    "# prepare data\n",
    "data1 = bp_yes['bp']\n",
    "data2 = bp_no['bp']\n",
    "\n",
    "# calculate cohen's d\n",
    "d = cohend(data1, data2)\n",
    "print('Cohens d: %.3f' % d)"
   ]
  },
  {
   "cell_type": "code",
   "execution_count": null,
   "id": "6b329fbf",
   "metadata": {},
   "outputs": [],
   "source": []
  },
  {
   "cell_type": "code",
   "execution_count": null,
   "id": "f266a181",
   "metadata": {},
   "outputs": [],
   "source": []
  },
  {
   "cell_type": "code",
   "execution_count": null,
   "id": "a09df540",
   "metadata": {},
   "outputs": [],
   "source": []
  },
  {
   "cell_type": "code",
   "execution_count": null,
   "id": "154d821c",
   "metadata": {},
   "outputs": [],
   "source": []
  },
  {
   "cell_type": "code",
   "execution_count": null,
   "id": "df2e1ed6",
   "metadata": {},
   "outputs": [],
   "source": []
  }
 ],
 "metadata": {
  "kernelspec": {
   "display_name": "Python 3 (ipykernel)",
   "language": "python",
   "name": "python3"
  },
  "language_info": {
   "codemirror_mode": {
    "name": "ipython",
    "version": 3
   },
   "file_extension": ".py",
   "mimetype": "text/x-python",
   "name": "python",
   "nbconvert_exporter": "python",
   "pygments_lexer": "ipython3",
   "version": "3.9.12"
  }
 },
 "nbformat": 4,
 "nbformat_minor": 5
}
